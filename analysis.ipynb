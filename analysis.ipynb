{
 "cells": [
  {
   "cell_type": "markdown",
   "metadata": {},
   "source": [
    "# About the database\n",
    "## Introduction\n",
    "This database, which contains information about Netflix movies and series, has 12 columns, including some null values. The analysis was carried out with the Pandas, Matplotlib and Seaborn libraries, which were used to treat, process and visualize the information."
   ]
  },
  {
   "cell_type": "markdown",
   "metadata": {},
   "source": [
    "Data:\n",
    "\n",
    "show_id - Unique content identifier\n",
    "\n",
    "type - Whether it's a movie or TV show\n",
    "\n",
    "title - Title\n",
    "\n",
    "director - Director\n",
    "\n",
    "cast - Cast\n",
    "\n",
    "country - Country where it was produced\n",
    "\n",
    "date_added - Date it was added to the Netflix catalog\n",
    "\n",
    "release_year - Year of release\n",
    "\n",
    "rating - Classification\n",
    "\n",
    "duration - Total duration - in minutes or in number of seasons."
   ]
  },
  {
   "cell_type": "markdown",
   "metadata": {},
   "source": [
    "# Exploratory Data Analysis - ED"
   ]
  },
  {
   "cell_type": "markdown",
   "metadata": {},
   "source": [
    "Possible analyzes:\n",
    "\n",
    "older or more modern movies in the catalog.\n",
    "\n",
    "number of movies released per year.\n",
    "\n",
    "proportion between movies and series in the catalog.\n",
    "\n",
    "length of movies.\n",
    "\n",
    "movies directors with the most productions on Netflix.\n",
    "\n",
    "longer duration movies.\n",
    "\n",
    "series with more seasons on Netflix.\n",
    "\n",
    "countries that produce the most content on Netflix."
   ]
  },
  {
   "cell_type": "markdown",
   "metadata": {},
   "source": []
  },
  {
   "cell_type": "code",
   "execution_count": null,
   "metadata": {},
   "outputs": [],
   "source": [
    "import matplotlib.pyplot as plt\n",
    "import pandas as pd\n",
    "import seaborn as sns\n",
    "\n",
    "sns.set_theme(style=\"darkgrid\", palette='Set2') # applying style and color palette"
   ]
  },
  {
   "cell_type": "code",
   "execution_count": null,
   "metadata": {},
   "outputs": [],
   "source": [
    "df=pd.read_csv(\"netflix_movies.csv\")"
   ]
  },
  {
   "cell_type": "code",
   "execution_count": null,
   "metadata": {},
   "outputs": [],
   "source": [
    "df.head()"
   ]
  },
  {
   "cell_type": "code",
   "execution_count": null,
   "metadata": {},
   "outputs": [],
   "source": [
    "df.info()"
   ]
  },
  {
   "cell_type": "code",
   "execution_count": null,
   "metadata": {},
   "outputs": [],
   "source": [
    "df.nunique() # checking for unique values"
   ]
  },
  {
   "cell_type": "code",
   "execution_count": null,
   "metadata": {},
   "outputs": [],
   "source": [
    "# Release year range\n",
    "# get the first index of the column\n",
    "starting_year = df[\"release_year\"].min()\n",
    "\n",
    "# get the last index of the column\n",
    "final_year = df[\"release_year\"].max()\n",
    "\n",
    "print(f\"This dataset covers movies released from {starting_year} to {final_year}.\")"
   ]
  },
  {
   "cell_type": "markdown",
   "metadata": {},
   "source": [
    "## Exploratory analysis and data visualization"
   ]
  },
  {
   "cell_type": "markdown",
   "metadata": {},
   "source": [
    "### Number of movies released per year"
   ]
  },
  {
   "cell_type": "code",
   "execution_count": null,
   "metadata": {},
   "outputs": [],
   "source": [
    "# separating the release year column into a variable\n",
    "# getting the frequency of each year of release\n",
    "release_year = df[\"release_year\"].value_counts().reset_index()\n",
    "release_year.head()"
   ]
  },
  {
   "cell_type": "code",
   "execution_count": null,
   "metadata": {},
   "outputs": [],
   "source": [
    "# creating a scatterplot to check the proportion of movies released each year\n",
    "fig, ax = plt.subplots(figsize=(12,4))\n",
    "\n",
    "sns.scatterplot(x=release_year[\"release_year\"], y=release_year[\"count\"])\n",
    "for spines in ax.spines.values(): # removing the spines, the chart frame\n",
    "        spines.set_visible(False) \n",
    "\n",
    "plt.xlabel(\"Year of release\")\n",
    "plt.ylabel(\"Amount\")\n",
    "\n",
    "plt.title(\"Number of movies released per year\", fontsize=14, weight='bold', color=\"dimgray\");"
   ]
  },
  {
   "cell_type": "markdown",
   "metadata": {},
   "source": [
    "The Netflix catalog features a predominance of 21st century movies, especially productions released from 2010 onwards."
   ]
  },
  {
   "cell_type": "markdown",
   "metadata": {},
   "source": [
    "### Proportion between movies and series in the catalogue."
   ]
  },
  {
   "cell_type": "code",
   "execution_count": null,
   "metadata": {},
   "outputs": [],
   "source": [
    "movies_and_tv_prog = df[\"type\"].value_counts().reset_index()\n",
    "movies_and_tv_prog"
   ]
  },
  {
   "cell_type": "code",
   "execution_count": null,
   "metadata": {},
   "outputs": [],
   "source": [
    "movie_counts = movies_and_tv_prog[\"count\"][0]\n",
    "tv_show_counts = movies_and_tv_prog[\"count\"][1]\n",
    "\n",
    "print(f\"Number of movies: {movie_counts}\\nNumber of TV Show: {tv_show_counts}\")"
   ]
  },
  {
   "cell_type": "code",
   "execution_count": null,
   "metadata": {},
   "outputs": [],
   "source": [
    "# creating an occupancy graph between categories in the netflix catalog\n",
    "plt.pie([movie_counts, tv_show_counts], labels=[\"Movie\", \"TV Show\"], shadow=True, explode=[0.25,-0.18], autopct=\"%.1f\")\n",
    "\n",
    "plt.title(\"Occupancy percentage in the catalog\", fontsize=12, weight='bold', color='dimgrey')\n",
    "\n",
    "plt.legend(loc=\"lower left\", bbox_to_anchor=(-0.02,-0.01))\n",
    "\n",
    "plt.show()"
   ]
  },
  {
   "cell_type": "markdown",
   "metadata": {},
   "source": [
    "The Netflix catalog features a predominance of movies, which correspond to 69.6% of the total, while TV shows occupy the remaining 30.4%."
   ]
  },
  {
   "cell_type": "markdown",
   "metadata": {},
   "source": [
    "### Duration of movies"
   ]
  },
  {
   "cell_type": "code",
   "execution_count": null,
   "metadata": {},
   "outputs": [],
   "source": [
    "# taking the duration of the movies, removing the word min from the cell and transforming the type into numeric\n",
    "movies_duration = df.loc[df[\"type\"] == \"Movie\"][\"duration\"].str.replace(\"min\", '').astype(\"float\").reset_index(drop=True)\n",
    "movies_duration.head()"
   ]
  },
  {
   "cell_type": "code",
   "execution_count": null,
   "metadata": {},
   "outputs": [],
   "source": [
    "import warnings\n",
    "\n",
    "warnings.filterwarnings('ignore')\n",
    "\n",
    "fig, ax = plt.subplots(figsize=(8,4))\n",
    "\n",
    "h = sns.histplot(movies_duration, bins=15)\n",
    "for i in h.containers:\n",
    "    ax.bar_label(ax.containers[0])\n",
    "    \n",
    "plt.ylabel('Count')\n",
    "plt.xlabel('Duration (in minutes)')\n",
    "\n",
    "plt.yticks([])\n",
    "\n",
    "plt.grid(False)\n",
    "\n",
    "plt.title('Duration of movies', fontsize=14, weight='bold', color='dimgrey');"
   ]
  },
  {
   "cell_type": "markdown",
   "metadata": {},
   "source": [
    "Netflix has most of its movies lasting around 85-100 minutes."
   ]
  },
  {
   "cell_type": "markdown",
   "metadata": {},
   "source": [
    "### Movies directors with the most productions on Netflix"
   ]
  },
  {
   "cell_type": "code",
   "execution_count": null,
   "metadata": {},
   "outputs": [],
   "source": [
    "# finding the 10 most popular directors\n",
    "director_movies = df['director'].value_counts()[:10].reset_index()\n",
    "director_movies.head()"
   ]
  },
  {
   "cell_type": "code",
   "execution_count": null,
   "metadata": {},
   "outputs": [],
   "source": [
    "# getting colors from the current color palette\n",
    "color_palette = sns.color_palette()\n",
    "\n",
    "fig, ax = plt.subplots(figsize=(14,6.5))\n",
    "\n",
    "b = sns.barplot(data=director_movies, x='director', y='count', color=color_palette[0])\n",
    "for barra in b.containers:\n",
    "    ax.bar_label(ax.containers[0], fontsize=11) # including the values ​​of each bar referring to the title\n",
    "    b.set_ylabel('')\n",
    "\n",
    "plt.yticks([])\n",
    "plt.xlabel('')\n",
    "\n",
    "plt.tick_params(axis='x', rotation=60)\n",
    "\n",
    "plt.title('Directors with the highest number of productions on Netflix', weight='bold', fontsize=14, color='dimgrey');"
   ]
  },
  {
   "cell_type": "markdown",
   "metadata": {},
   "source": [
    "Rajiv Chilaka is the director with the highest number of productions on Netflix, which may indicate that the public appreciates the content he produces."
   ]
  },
  {
   "cell_type": "markdown",
   "metadata": {},
   "source": [
    "### Longer-running movies"
   ]
  },
  {
   "cell_type": "code",
   "execution_count": null,
   "metadata": {},
   "outputs": [],
   "source": [
    "# separating the title and duration of the movies\n",
    "longer_running_movies = df.loc[df['type'] == 'Movie'][['title', 'duration']]\n",
    "\n",
    "# removing the word 'min' from the string and transforming the duration column into float type\n",
    "longer_running_movies['duration'] = longer_running_movies['duration'].str.replace('min', '').astype('float')\n",
    "\n",
    "# taking the title of the movies and breaking all spaces into two lines\n",
    "longer_running_movies['title'] = [title.replace(' ', '\\n') for title in longer_running_movies['title']]\n",
    "\n",
    "# sorting the dataframe by duration and restarting the index\n",
    "longer_running_movies = longer_running_movies.sort_values('duration', ascending=False).reset_index(drop=True)[:10]\n",
    "\n",
    "longer_running_movies.head()"
   ]
  },
  {
   "cell_type": "code",
   "execution_count": null,
   "metadata": {},
   "outputs": [],
   "source": [
    "# viewing the 10 longest running movies on Netflix\n",
    "fig, ax = plt.subplots(figsize=(14, 6.5))\n",
    "\n",
    "b = sns.barplot(data=longer_running_movies, x='title', y='duration', color=color_palette[0])\n",
    "for i in b.containers:\n",
    "    ax.bar_label(ax.containers[0], fontsize=11)\n",
    "    b.set_ylabel('')\n",
    "    b.set_xlabel('')\n",
    "\n",
    "plt.yticks([])\n",
    "\n",
    "plt.title('Longest running movies (in minutes) on Netflix', fontsize=14, weight='bold', color='dimgrey');"
   ]
  },
  {
   "cell_type": "markdown",
   "metadata": {},
   "source": [
    "The longest movie available on Netflix is ​​Black Mirror: Bandersnatch, with a total running time of 312 minutes, which is equivalent to 5 hours and 12 minutes"
   ]
  },
  {
   "cell_type": "markdown",
   "metadata": {},
   "source": [
    "### TV shows with the most seasons on Netflix"
   ]
  },
  {
   "cell_type": "code",
   "execution_count": null,
   "metadata": {},
   "outputs": [],
   "source": [
    "# separating the lines with the TV Show Type and filtering only the duration and title\n",
    "# we can notice that the series are separated by seasons\n",
    "tv_show_seasons = df.loc[df['type'] == 'TV Show'][['title', 'duration']]\n",
    "tv_show_seasons.head()"
   ]
  },
  {
   "cell_type": "code",
   "execution_count": null,
   "metadata": {},
   "outputs": [],
   "source": [
    "#  removing the word Seasons from the strings and transforming the remaining value into an integer type\n",
    "tv_show_seasons['duration'] = tv_show_seasons['duration'].str.replace('Seasons', '').str.replace('Season', '').astype('int')\n",
    "\n",
    "# turning title spaces into line breaks\n",
    "tv_show_seasons['title'] = [title.replace(' ', '\\n') for title in tv_show_seasons['title']]\n",
    "\n",
    "# ordering the dataframe by the duration column\n",
    "tv_show_seasons = tv_show_seasons.sort_values('duration', ascending=False).reset_index(drop=True)[:10]\n",
    "\n",
    "tv_show_seasons.head()"
   ]
  },
  {
   "cell_type": "code",
   "execution_count": null,
   "metadata": {},
   "outputs": [],
   "source": [
    "tv_show_seasonsfig, ax = plt.subplots(figsize=(12, 5.5))\n",
    "\n",
    "b = sns.barplot(data=tv_show_seasons, x='title', y='duration', color=color_palette[0])\n",
    "for i in b.containers:\n",
    "    ax.bar_label(ax.containers[0], padding=-1, fontsize=12)\n",
    "    b.set_ylabel('')\n",
    "    b.set_xlabel('')\n",
    "\n",
    "plt.yticks([])\n",
    "\n",
    "plt.title('TV shows with more seasons on Netflix', fontsize=16, weight='bold', color='dimgrey');"
   ]
  },
  {
   "cell_type": "markdown",
   "metadata": {},
   "source": [
    "Longer-running TV shows may indicate a trend in the genres preferred by the public"
   ]
  },
  {
   "cell_type": "markdown",
   "metadata": {},
   "source": [
    "### Countries that produce the most content on Netflix"
   ]
  },
  {
   "cell_type": "code",
   "execution_count": null,
   "metadata": {},
   "outputs": [],
   "source": [
    "launchy_country = df['country'].value_counts().reset_index()[:10]\n",
    "launchy_country.head()"
   ]
  },
  {
   "cell_type": "code",
   "execution_count": null,
   "metadata": {},
   "outputs": [],
   "source": [
    "fig, ax = plt.subplots(figsize=(10, 4))\n",
    "\n",
    "b = sns.barplot(data=launchy_country, x='country', y='count', color=color_palette[0])\n",
    "\n",
    "for i in b.containers:\n",
    "    ax.bar_label(ax.containers[0], padding=-1, fontsize=10)\n",
    "    b.set_xlabel('')\n",
    "    b.set_ylabel('')\n",
    "\n",
    "plt.yticks([])\n",
    "plt.tick_params(axis='x', rotation=60)\n",
    "\n",
    "plt.title('Countries that produce the most content on Netflix', fontsize=16, weight='bold', color='dimgrey');"
   ]
  },
  {
   "cell_type": "markdown",
   "metadata": {},
   "source": [
    "The United States is the country that produces the most content for Netflix.¶"
   ]
  },
  {
   "cell_type": "markdown",
   "metadata": {},
   "source": []
  }
 ],
 "metadata": {
  "kernelspec": {
   "display_name": "Python 3",
   "language": "python",
   "name": "python3"
  },
  "language_info": {
   "codemirror_mode": {
    "name": "ipython",
    "version": 3
   },
   "file_extension": ".py",
   "mimetype": "text/x-python",
   "name": "python",
   "nbconvert_exporter": "python",
   "pygments_lexer": "ipython3",
   "version": "3.11.9"
  }
 },
 "nbformat": 4,
 "nbformat_minor": 2
}
